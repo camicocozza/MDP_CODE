{
 "cells": [
  {
   "cell_type": "markdown",
   "id": "f7182a9a-b43f-4808-ab9d-fd142d0f8391",
   "metadata": {},
   "source": [
    "**HYDRAULIC CONDUCTIVITY - MARIOTTE'S BOTTLE EXPERIMENT**"
   ]
  },
  {
   "cell_type": "code",
   "execution_count": 1,
   "id": "5c6a0634-c003-4749-93a5-25b5fae7d545",
   "metadata": {
    "tags": []
   },
   "outputs": [
    {
     "name": "stderr",
     "output_type": "stream",
     "text": [
      "/Applications/anaconda3/envs/mude/lib/python3.11/site-packages/pandas/core/arrays/masked.py:60: UserWarning: Pandas requires version '1.3.6' or newer of 'bottleneck' (version '1.3.5' currently installed).\n",
      "  from pandas.core import (\n"
     ]
    }
   ],
   "source": [
    "import numpy as np\n",
    "import matplotlib.pyplot as plt\n",
    "import pandas as pd\n",
    "import warnings\n",
    "from scipy.stats import linregress\n",
    "warnings.simplefilter(\"ignore\")\n",
    "plt.rcParams[\"figure.autolayout\"] = True\n",
    "plt.rcParams['axes.grid'] = True"
   ]
  },
  {
   "cell_type": "code",
   "execution_count": 2,
   "id": "eaed13ee-9c17-460a-8974-a79131e12624",
   "metadata": {
    "tags": []
   },
   "outputs": [],
   "source": [
    "k_val = []\n",
    "loc = []\n",
    "uncertainty = []"
   ]
  },
  {
   "cell_type": "code",
   "execution_count": 3,
   "id": "ca1e6fe4-b706-4a74-ad1b-d500d6b9395b",
   "metadata": {
    "tags": []
   },
   "outputs": [],
   "source": [
    "#uncertainty propagation\n",
    "def k_value(time, delh):\n",
    "    pi = np.pi\n",
    "\n",
    "    # Given values\n",
    "    r_bottle = 0.03  # radius of the bottle in meters\n",
    "    r_soil = 0.05  # radius of the soil sample in meters\n",
    "    dropdown = 0.005  # dropdown in meters\n",
    "    length_soil_sample = 0.05  # length of soil sample in meters\n",
    "    delh = delh  # delta h in meters\n",
    "    time_dropdown = time  # time for dropdown in seconds\n",
    "\n",
    "    # Uncertainties\n",
    "    delta_r = 0.001  # uncertainty in radius (1 mm)\n",
    "    delta_dropdown = 0.005  # uncertainty in dropdown (5 mm)\n",
    "    delta_length = 0.001  # uncertainty in length of soil sample (1 mm)\n",
    "    delta_delh = 0.001  # uncertainty in delta h (1 mm)\n",
    "\n",
    "    # 1. Calculate areas\n",
    "    A_bottle = pi * r_bottle**2\n",
    "    A_soil = pi * r_soil**2\n",
    "\n",
    "    # Uncertainty in surface area\n",
    "    delta_A_bottle = 2 * pi * r_bottle * delta_r\n",
    "    delta_A_soil = 2 * pi * r_soil * delta_r\n",
    "\n",
    "    # 2. Calculate flow rate (Q)\n",
    "    Q = (A_bottle * dropdown) / time_dropdown\n",
    "\n",
    "    # Uncertainty in flow rate (Q)\n",
    "    relative_uncertainty_Q = np.sqrt((delta_A_bottle / A_bottle)**2 + (delta_dropdown / dropdown)**2)\n",
    "    delta_Q = Q * relative_uncertainty_Q\n",
    "\n",
    "    # 3. Calculate hydraulic conductivity (k)\n",
    "    k = (Q * length_soil_sample) / (A_soil * delh)\n",
    "\n",
    "    # Uncertainty in hydraulic conductivity (k)\n",
    "    relative_uncertainty_k = np.sqrt(\n",
    "        (delta_Q / Q)**2 + \n",
    "        (delta_length / length_soil_sample)**2 + \n",
    "        (delta_A_soil / A_soil)**2 + \n",
    "        (delta_delh / delh)**2\n",
    "    )\n",
    "    delta_k = k * relative_uncertainty_k\n",
    "\n",
    "    \n",
    "    return Q, delta_Q, k, delta_k"
   ]
  },
  {
   "cell_type": "markdown",
   "id": "535130b5-7b44-444e-8ed4-3d9e8b55dce2",
   "metadata": {},
   "source": [
    "S1"
   ]
  },
  {
   "cell_type": "code",
   "execution_count": 4,
   "id": "468af61a-e59c-4a01-94d4-7ef074d0947c",
   "metadata": {
    "tags": []
   },
   "outputs": [],
   "source": [
    "# 2 and 4\n",
    "k_val.append(np.mean([k_value(time = 305, delh = 0.05)[2], k_value(time = 201, delh = 0.037)[2]]))\n",
    "uncertainty.append(0.5 * np.sqrt(np.mean([k_value(time = 305, delh = 0.05)[3]**2, k_value(time = 201, delh = 0.037)[3]**2])))\n",
    "loc.append(\"S1_L1\")"
   ]
  },
  {
   "cell_type": "code",
   "execution_count": 5,
   "id": "2077c0e7-ed87-4014-854a-c291a6fc9ecb",
   "metadata": {
    "tags": []
   },
   "outputs": [],
   "source": [
    "# 6 and 8\n",
    "k_val.append(np.mean([k_value(time = 189, delh = 0.04)[2], k_value(time = 60, delh = 0.03)[2]]))\n",
    "uncertainty.append(0.5 * np.sqrt(np.mean([k_value(time = 189, delh = 0.04)[3]**2, k_value(time = 60, delh = 0.03)[3]**2])))\n",
    "loc.append(\"S1_L2\")"
   ]
  },
  {
   "cell_type": "code",
   "execution_count": 6,
   "id": "6ca26117-c9d7-4877-81c6-410f0160166b",
   "metadata": {
    "tags": []
   },
   "outputs": [],
   "source": [
    "# 14 and 16 (missing)\n",
    "k_val.append(np.mean([k_value(time = 270, delh = 0.045)[2]]))\n",
    "uncertainty.append(0.5 * np.sqrt(np.mean([k_value(time = 270, delh = 0.045)[3]**2])))\n",
    "loc.append(\"S1_L3\")"
   ]
  },
  {
   "cell_type": "code",
   "execution_count": 7,
   "id": "92af2a3f-8f52-4260-b504-a9003720f3f2",
   "metadata": {
    "tags": []
   },
   "outputs": [],
   "source": [
    "# 17 and 20\n",
    "k_val.append(np.mean([k_value(time = 195, delh = 0.04)[2], k_value(time = 199, delh = 0.04)[2]]))\n",
    "uncertainty.append(0.5 * np.sqrt(np.mean([k_value(time = 195, delh = 0.04)[3]**2, k_value(time = 199, delh = 0.04)[3]**2])))\n",
    "loc.append(\"S1_L4\")"
   ]
  },
  {
   "cell_type": "code",
   "execution_count": 8,
   "id": "9096144b-3721-4d46-8459-ea5c5eb7b155",
   "metadata": {
    "tags": []
   },
   "outputs": [],
   "source": [
    "# 22 (missing) and 24\n",
    "k_val.append(np.mean([k_value(time = 303, delh = 0.04)[2]]))\n",
    "uncertainty.append(0.5 * np.sqrt(np.mean([k_value(time = 303, delh = 0.04)[3]**2])))\n",
    "loc.append(\"S1_L5\")"
   ]
  },
  {
   "cell_type": "code",
   "execution_count": 9,
   "id": "1e7f115d-43fb-4423-b714-a717257d87f7",
   "metadata": {
    "tags": []
   },
   "outputs": [],
   "source": [
    "#k_val.append(np.mean([, ]))\n",
    "#loc.append(\"S1_L6\")"
   ]
  },
  {
   "cell_type": "markdown",
   "id": "714d4492-76a6-4c70-9784-d4b34ceff369",
   "metadata": {},
   "source": [
    "S2"
   ]
  },
  {
   "cell_type": "code",
   "execution_count": 10,
   "id": "0b1f5d37-0641-4be8-a765-f953986f920a",
   "metadata": {},
   "outputs": [],
   "source": [
    "# 26 and 28\n",
    "\n",
    "k_val.append(np.mean([k_value(time = 1357, delh = 0.04)[2], k_value(time = 52, delh = 0.05)[2]]))\n",
    "uncertainty.append(0.5 * np.sqrt(np.mean([k_value(time = 1357, delh = 0.04)[3]**2, k_value(time = 52, delh = 0.05)[3]**2])))\n",
    "loc.append(\"S2_L1\")"
   ]
  },
  {
   "cell_type": "code",
   "execution_count": 11,
   "id": "0ab653e3-32ce-4e76-9ebd-4113461378b0",
   "metadata": {},
   "outputs": [],
   "source": [
    "# 30 and 32\n",
    "k_val.append(np.mean([k_value(time = 222, delh = 0.04)[2], k_value(time = 52, delh = 0.05)[2]]))\n",
    "uncertainty.append(0.5 * np.sqrt(np.mean([k_value(time = 222, delh = 0.04)[3]**2, k_value(time = 52, delh = 0.05)[3]**2])))\n",
    "loc.append(\"S2_L2\")"
   ]
  },
  {
   "cell_type": "code",
   "execution_count": 12,
   "id": "5be6ffc4-94e5-4d73-97c1-877e799604e8",
   "metadata": {},
   "outputs": [],
   "source": [
    "# 34 and 36\n",
    "k_val.append(np.mean([k_value(time = 257, delh = 0.06)[2], k_value(time = 356, delh = 0.06)[2]]))\n",
    "uncertainty.append(0.5 * np.sqrt(np.mean([k_value(time = 257, delh = 0.06)[3]**2, k_value(time = 356, delh = 0.06)[3]**2])))\n",
    "loc.append(\"S2_L3\")"
   ]
  },
  {
   "cell_type": "code",
   "execution_count": 13,
   "id": "5ec06f33-7a3f-40ac-a721-d612a1d11933",
   "metadata": {},
   "outputs": [],
   "source": [
    "# 38 and 40\n",
    "k_val.append(np.mean([k_value(time = 407, delh = 0.042)[2], k_value(time = 434, delh = 0.035)[2]]))\n",
    "uncertainty.append(0.5 * np.sqrt(np.mean([k_value(time = 407, delh = 0.042)[3]**2, k_value(time = 434, delh = 0.035)[3]**2])))\n",
    "loc.append(\"S2_L4\")"
   ]
  },
  {
   "cell_type": "code",
   "execution_count": 14,
   "id": "c902b513-0fbb-495d-870a-733e0eb7671f",
   "metadata": {},
   "outputs": [],
   "source": [
    "# 42 and 44\n",
    "k_val.append(np.mean([k_value(time = 59, delh = 0.042)[2], k_value(time = 262, delh = 0.05)[2]]))\n",
    "uncertainty.append(0.5 * np.sqrt(np.mean([k_value(time = 59, delh = 0.042)[3]**2, k_value(time = 262, delh = 0.05)[3]**2])))\n",
    "loc.append(\"S2_L5\")"
   ]
  },
  {
   "cell_type": "code",
   "execution_count": 15,
   "id": "955d5fef-daf9-4430-830a-561d528f0f02",
   "metadata": {},
   "outputs": [],
   "source": [
    "# 46 and 48\n",
    "k_val.append(np.mean([k_value(time = 187, delh = 0.04)[2], k_value(time = 119, delh = 0.045)[2]]))\n",
    "uncertainty.append(0.5 * np.sqrt(np.mean([k_value(time = 187, delh = 0.04)[3]**2, k_value(time = 119, delh = 0.045)[3]**2])))\n",
    "loc.append(\"S2_L6\")"
   ]
  },
  {
   "cell_type": "markdown",
   "id": "5727448f-daed-4577-95f9-9860c430bd79",
   "metadata": {},
   "source": [
    "S3"
   ]
  },
  {
   "cell_type": "code",
   "execution_count": 16,
   "id": "879e804b-b305-415e-a631-96e613a83b7c",
   "metadata": {},
   "outputs": [],
   "source": [
    "# 49 and 50\n",
    "k_val.append(np.mean([k_value(time = 1907, delh = 0.04)[2], k_value(time = 782, delh = 0.042)[2]]))\n",
    "uncertainty.append(0.5 * np.sqrt(np.mean([k_value(time = 1907, delh = 0.04)[3]**2, k_value(time = 782, delh = 0.042)[3]**2])))\n",
    "loc.append(\"S3_L1\")"
   ]
  },
  {
   "cell_type": "code",
   "execution_count": 17,
   "id": "1f4ff36d",
   "metadata": {},
   "outputs": [],
   "source": [
    "# 54 and 56\n",
    "k_val.append(np.mean([k_value(time = 868, delh = 0.035)[2], k_value(time = 489, delh = 0.04)[2]]))\n",
    "uncertainty.append(0.5 * np.sqrt(np.mean([k_value(time = 868, delh =0.035 )[3]**2, k_value(time = 489, delh = 0.04)[3]**2])))\n",
    "loc.append(\"S3_L2\")"
   ]
  },
  {
   "cell_type": "code",
   "execution_count": 18,
   "id": "42c57343",
   "metadata": {},
   "outputs": [],
   "source": [
    "# 58 MISSING !! and 60\n",
    "#k_val.append(np.mean([k_value(time = , delh = )[2], k_value(time = 823, delh = 0.037)[2]])) \n",
    "#uncertainty.append(0.5 * np.sqrt(np.mean([k_value(time = , delh = )[3]**2, k_value(time = 782, delh = 0.042)[3]**2])))\n",
    "#loc.append(\"S3_L3\")"
   ]
  },
  {
   "cell_type": "code",
   "execution_count": 19,
   "id": "1b4c893f-f9b1-430b-ae5c-7938df04bb61",
   "metadata": {},
   "outputs": [],
   "source": [
    "# 66 and 68\n",
    "k_val.append(np.mean([k_value(time = 1586, delh = 0.035)[2], k_value(time = 215, delh = 0.47)[2]]))\n",
    "uncertainty.append(0.5 * np.sqrt(np.mean([k_value(time = 1586, delh = 0.035)[3]**2, k_value(time = 215, delh = 0.047)[3]**2])))\n",
    "loc.append(\"S3_L4\")"
   ]
  },
  {
   "cell_type": "code",
   "execution_count": 20,
   "id": "00c3263a-3462-4bea-9429-6665bbcb1118",
   "metadata": {},
   "outputs": [],
   "source": [
    "# 74 MISSING !! and 76\n",
    "#k_val.append(np.mean([k_value(time = , delh = )[2], k_value(time = 698, delh = 0.035)[2]]))\n",
    "#uncertainty.append(0.5 * np.sqrt(np.mean([k_value(time = , delh = )[3]**2, k_value(time = 698, delh = 0.035)[3]**2])))\n",
    "#loc.append(\"S3_L5\")"
   ]
  },
  {
   "cell_type": "code",
   "execution_count": 21,
   "id": "6e5d84df-edd5-4207-a167-7a8afd10bdd0",
   "metadata": {},
   "outputs": [],
   "source": [
    "# 70 and 72\n",
    "k_val.append(np.mean([k_value(time = 1553, delh = 0.047)[2], k_value(time = 1543, delh = 0.036)[2]]))\n",
    "uncertainty.append(0.5 * np.sqrt(np.mean([k_value(time = 1553, delh = 0.047)[3]**2, k_value(time = 1543, delh = 0.036)[3]**2])))\n",
    "loc.append(\"S3_L6\")"
   ]
  },
  {
   "cell_type": "markdown",
   "id": "ce1f2764-4450-4ccd-9f5c-58332d649624",
   "metadata": {},
   "source": [
    "S4"
   ]
  },
  {
   "cell_type": "code",
   "execution_count": 22,
   "id": "6bfb88c5-1f83-4dc5-a013-5b0fe0b15646",
   "metadata": {
    "tags": []
   },
   "outputs": [
    {
     "data": {
      "text/plain": [
       "Text(0.5, 1.0, 'Hydraulic Conductivity')"
      ]
     },
     "execution_count": 22,
     "metadata": {},
     "output_type": "execute_result"
    },
    {
     "data": {
      "image/png": "[encoded data removed]",
      "text/plain": [
       "<Figure size 1000x600 with 1 Axes>"
      ]
     },
     "metadata": {},
     "output_type": "display_data"
    }
   ],
   "source": [
    "plt.figure(figsize=(10, 6))\n",
    "plt.errorbar(loc, k_val, yerr=uncertainty, fmt='o', capsize=5, label='Hydraulic Conductivity')  # fmt='o' adds markers\n",
    "plt.plot(loc, k_val, 'o')\n",
    "plt.ylabel('Hydraulic Conductivity (m/s)')\n",
    "plt.xlabel('Sample Index')\n",
    "#plt.yscale('log') \n",
    "plt.title('Hydraulic Conductivity')"
   ]
  },
  {
   "cell_type": "code",
   "execution_count": 23,
   "id": "6082d56d-07f7-4b13-bd7d-28dbd7aa4ec2",
   "metadata": {
    "tags": []
   },
   "outputs": [
    {
     "data": {
      "text/plain": [
       "['S1_L1',\n",
       " 'S1_L2',\n",
       " 'S1_L3',\n",
       " 'S1_L4',\n",
       " 'S1_L5',\n",
       " 'S2_L1',\n",
       " 'S2_L2',\n",
       " 'S2_L3',\n",
       " 'S2_L4',\n",
       " 'S2_L5',\n",
       " 'S2_L6',\n",
       " 'S3_L1',\n",
       " 'S3_L2',\n",
       " 'S3_L4',\n",
       " 'S3_L6']"
      ]
     },
     "execution_count": 23,
     "metadata": {},
     "output_type": "execute_result"
    }
   ],
   "source": [
    "loc"
   ]
  },
  {
   "cell_type": "code",
   "execution_count": 24,
   "id": "334f1adb-45bc-4a23-8890-7f88dfed1646",
   "metadata": {
    "tags": []
   },
   "outputs": [],
   "source": [
    "cl = k_val[0:2] + k_val[5:7] + k_val[11:12]\n",
    "nc = k_val[3:4] + k_val[8:10] + k_val[11:12]\n",
    "data = [cl, nc]\n",
    "labels = [\"cleared\", \"non cleared\"]"
   ]
  },
  {
   "cell_type": "code",
   "execution_count": 25,
   "id": "8b119220-2ab9-4d6e-a698-778f3aa1ce8c",
   "metadata": {},
   "outputs": [
    {
     "data": {
      "image/png": "[encoded data removed]",
      "text/plain": [
       "<Figure size 1000x600 with 1 Axes>"
      ]
     },
     "metadata": {},
     "output_type": "display_data"
    }
   ],
   "source": [
    "plt.figure(figsize=(10, 6))\n",
    "plt.boxplot(data, labels = labels)\n",
    "plt.ylabel('Hydraulic Conductivity (m/s)')\n",
    "plt.yscale(\"log\")\n",
    "plt.title('Comparison of Hydraulic Conductivity by Land Management Practice')\n",
    "plt.savefig(\"comparison\", dpi = 300)\n",
    "plt.show()"
   ]
  },
  {
   "cell_type": "code",
   "execution_count": 26,
   "id": "b12f1a17-4f17-4641-880d-53cfcefb1bb8",
   "metadata": {},
   "outputs": [
    {
     "name": "stdout",
     "output_type": "stream",
     "text": [
      "try2\n"
     ]
    }
   ],
   "source": [
    "print(\"try2\")"
   ]
  },
  {
   "cell_type": "code",
   "execution_count": null,
   "id": "ee86ab64-6607-450f-9aea-bf869566c1d7",
   "metadata": {},
   "outputs": [],
   "source": []
  }
 ],
 "metadata": {
  "kernelspec": {
   "display_name": "Python 3 (ipykernel)",
   "language": "python",
   "name": "python3"
  },
  "language_info": {
   "codemirror_mode": {
    "name": "ipython",
    "version": 3
   },
   "file_extension": ".py",
   "mimetype": "text/x-python",
   "name": "python",
   "nbconvert_exporter": "python",
   "pygments_lexer": "ipython3",
   "version": "3.11.4"
  }
 },
 "nbformat": 4,
 "nbformat_minor": 5
}
