{
 "cells": [
  {
   "cell_type": "markdown",
   "metadata": {},
   "source": [
    "# <figure>\n",
    "  <IMG SRC=\"https://raw.githubusercontent.com/mbakker7/exploratory_computing_with_python/master/tudelft_logo.png\" WIDTH=250 ALIGN=\"right\">\n",
    "</figure>\n",
    "\n",
    "# Hydrologie CTB2420 Infiltratieproef\n",
    "*Developed by Martine Stam & Niek Hunink*"
   ]
  },
  {
   "cell_type": "markdown",
   "metadata": {},
   "source": [
    "Hernoem dit notebook (bijvoorbeeld \"Hydro-groep A01\") en lever het Python bestand in op blackboard. Omzetten naar pdf hoeft dus niet. "
   ]
  },
  {
   "cell_type": "markdown",
   "metadata": {},
   "source": [
    "### Groepsnaam"
   ]
  },
  {
   "cell_type": "code",
   "execution_count": null,
   "metadata": {
    "collapsed": true,
    "jupyter": {
     "outputs_hidden": true
    }
   },
   "outputs": [],
   "source": []
  },
  {
   "cell_type": "markdown",
   "metadata": {},
   "source": [
    "### Namen studenten"
   ]
  },
  {
   "cell_type": "code",
   "execution_count": null,
   "metadata": {
    "collapsed": true,
    "jupyter": {
     "outputs_hidden": true
    }
   },
   "outputs": [],
   "source": []
  },
  {
   "cell_type": "markdown",
   "metadata": {},
   "source": [
    "## Infiltratie van de bodem\n",
    "### Doel\n",
    "De infiltratiecapaciteit van de bodem is een belangrijke parameter die bepaalt welk deel van het regen- of irrigatiewater in de bodem terecht komt en daar beschikbaar is voor vegetatie of percoleert naar het diepere grondwater, en welk deel afstroomt over het landoppervlak en in de riolering, beken en rivieren terecht komt. In dit experiment gaan jullie voor verschillende bodems de infiltratiecapaciteit bepalen, in het laboratorium zowel als in het veld. Ook zullen jullie bekijken hoe het geïnfiltreerde water in de bodem verdeeld is en tot welke diepte.\n",
    "Jullie meten zowel de infiltratiesnelheid als de bodemvochtverdeling in de grond. Nu kunnen jullie een waterbalans opstellen, stroomsnelheid in de grond bepalen en de infiltratiecapaciteit en doorlatendheid van de grond berekenen.\n",
    "\n",
    "Doel: Inzicht krijgen in het gedrag van de onverzadigde zone en het kunnen inschatten van infiltratiesnelheden. Tevens een oefening in het opstellen van een waterbalans."
   ]
  },
  {
   "cell_type": "markdown",
   "metadata": {},
   "source": [
    "## Ring infiltratiemeter\n",
    "In Stevin III water Lab staan de proefopstellingen klaar. Het zijn 1 meter lange PVC cylinders gevuld met zand. In het midden staat een toegangsbuis om middels een sensor (Theta probe PR1) bodemvocht mee te meten. We gaan een infiltratieproef doen en vervolgens kijken waar het vocht gebleven is in de bodem. We doen dit in een matig vochtige bodem (1e proef) en nattere bodem (2e proef).\n",
    "- Meet de meetopstelling op (geometrie)\n",
    "- IJk de Mariotte fles\n",
    "- Meet een initieel vochtprofiel. Doe de meting 3 keer, steeds 1/3 gedraaid en neem het gemiddelde. \n",
    "- Draai kraan Mariotte fles open en start de infiltratie. Noteer begin van de test en meet met regelmatige tijdstappen de     hoeveel water die uit de Mariotte fles is gestroomd. Stop test als infiltratie constant wordt.\n",
    "- Meet ondertussen iedere paar minuten een bodemvochtprofiel.\n",
    "- Meet het vochtprofiel opnieuw direct na het stoppen van de test en 10 en 20 minuten later nog een keer."
   ]
  },
  {
   "cell_type": "markdown",
   "metadata": {},
   "source": [
    "### Uitwerking Waterbalans Infiltratieproef 1"
   ]
  },
  {
   "cell_type": "markdown",
   "metadata": {},
   "source": [
    "1) Hoeveel water zit er in het initieel vochtprofiel en hoeveel water heb je nodig om het profiel te verzadigen?"
   ]
  },
  {
   "cell_type": "code",
   "execution_count": null,
   "metadata": {
    "collapsed": true,
    "jupyter": {
     "outputs_hidden": true
    }
   },
   "outputs": [],
   "source": []
  },
  {
   "cell_type": "markdown",
   "metadata": {},
   "source": [
    "2) Hoeveel water is geïnfiltreerd?"
   ]
  },
  {
   "cell_type": "code",
   "execution_count": null,
   "metadata": {
    "collapsed": true,
    "jupyter": {
     "outputs_hidden": true
    }
   },
   "outputs": [],
   "source": []
  },
  {
   "cell_type": "markdown",
   "metadata": {},
   "source": [
    "3) Hoeveel water heb je terug gevonden in de zandkolom?"
   ]
  },
  {
   "cell_type": "code",
   "execution_count": null,
   "metadata": {
    "collapsed": true,
    "jupyter": {
     "outputs_hidden": true
    }
   },
   "outputs": [],
   "source": []
  },
  {
   "cell_type": "markdown",
   "metadata": {},
   "source": [
    "### Uitwerking Waterbalans Infiltratieproef 2"
   ]
  },
  {
   "cell_type": "markdown",
   "metadata": {},
   "source": [
    "1) Hoeveel water zit er in het initieel vochtprofiel en hoeveel water heb je nodig om het profiel te verzadigen?"
   ]
  },
  {
   "cell_type": "code",
   "execution_count": null,
   "metadata": {
    "collapsed": true,
    "jupyter": {
     "outputs_hidden": true
    }
   },
   "outputs": [],
   "source": []
  },
  {
   "cell_type": "markdown",
   "metadata": {},
   "source": [
    "2) Hoeveel water is geïnfiltreerd?"
   ]
  },
  {
   "cell_type": "code",
   "execution_count": null,
   "metadata": {
    "collapsed": true,
    "jupyter": {
     "outputs_hidden": true
    }
   },
   "outputs": [],
   "source": []
  },
  {
   "cell_type": "markdown",
   "metadata": {},
   "source": [
    "3) Hoeveel water heb je terug gevonden in de zandkolom?"
   ]
  },
  {
   "cell_type": "code",
   "execution_count": null,
   "metadata": {
    "collapsed": true,
    "jupyter": {
     "outputs_hidden": true
    }
   },
   "outputs": [],
   "source": []
  },
  {
   "cell_type": "markdown",
   "metadata": {},
   "source": [
    "4) Voor beide infiltratieproeven: Verklaar je bevindingen!"
   ]
  },
  {
   "cell_type": "code",
   "execution_count": null,
   "metadata": {
    "collapsed": true,
    "jupyter": {
     "outputs_hidden": true
    }
   },
   "outputs": [],
   "source": []
  },
  {
   "cell_type": "markdown",
   "metadata": {},
   "source": [
    "## Philip infiltratie proces\n",
    "Philip (1960) bestudeerde het infiltratie proces voor vele jaren intensief. Hij heeft ook een eenvoudige vergelijking afgeleid die de tijdsafhankelijke infiltratie beschrijft. Dit zijn de eerste twee termen van een polynoom benadering van de wiskundige vergelijking die water stroming in de onverzadigde zone beschrijft. \n",
    "\n",
    " $i=0.5S{t}^{-0.5}+A$\n",
    "\n",
    "$i$ is infiltratiesnelheid $(L {T}^{-1})$, $S (L {T}^{-0.5})$ is the ‘sorptivity’ en is een maat voor de water opnamecapaciteit van de bodem en A is de eindinfiltratie waarde $(L {T}^{-1})$.\n"
   ]
  },
  {
   "cell_type": "markdown",
   "metadata": {},
   "source": [
    "### Uitwerking infiltratieproef 1 met Philip vergelijking"
   ]
  },
  {
   "cell_type": "markdown",
   "metadata": {},
   "source": [
    "1) Plot infiltratie met tijd ($i$ tegen $t$)"
   ]
  },
  {
   "cell_type": "code",
   "execution_count": null,
   "metadata": {
    "collapsed": true,
    "jupyter": {
     "outputs_hidden": true
    }
   },
   "outputs": [],
   "source": []
  },
  {
   "cell_type": "markdown",
   "metadata": {},
   "source": [
    "2) Plot infiltratie met tijd ($i$ tegen ${t}^{-0.5}$) "
   ]
  },
  {
   "cell_type": "code",
   "execution_count": null,
   "metadata": {
    "collapsed": true,
    "jupyter": {
     "outputs_hidden": true
    }
   },
   "outputs": [],
   "source": []
  },
  {
   "cell_type": "markdown",
   "metadata": {},
   "source": [
    "3) Plot de Philip infiltratie vergelijking en bepaal de parameters S(orptivity) en A (constante eindinfiltratiewaarde) "
   ]
  },
  {
   "cell_type": "code",
   "execution_count": null,
   "metadata": {
    "collapsed": true,
    "jupyter": {
     "outputs_hidden": true
    }
   },
   "outputs": [],
   "source": []
  },
  {
   "cell_type": "markdown",
   "metadata": {},
   "source": [
    "### Uitwerking infiltratieproef 2 met Philip vergelijking"
   ]
  },
  {
   "cell_type": "markdown",
   "metadata": {},
   "source": [
    "1) Plot infiltratie met tijd ($i$ tegen $t$)"
   ]
  },
  {
   "cell_type": "code",
   "execution_count": null,
   "metadata": {
    "collapsed": true,
    "jupyter": {
     "outputs_hidden": true
    }
   },
   "outputs": [],
   "source": []
  },
  {
   "cell_type": "markdown",
   "metadata": {},
   "source": [
    "2) Plot infiltratie met tijd ($i$ tegen ${t}^{-0.5}$) "
   ]
  },
  {
   "cell_type": "code",
   "execution_count": null,
   "metadata": {
    "collapsed": true,
    "jupyter": {
     "outputs_hidden": true
    }
   },
   "outputs": [],
   "source": []
  },
  {
   "cell_type": "markdown",
   "metadata": {},
   "source": [
    "3) Plot de Philip infiltratie vergelijking en bepaal de parameters S(orptivity) en A (constante eindinfiltratiewaarde) "
   ]
  },
  {
   "cell_type": "code",
   "execution_count": null,
   "metadata": {
    "collapsed": true,
    "jupyter": {
     "outputs_hidden": true
    }
   },
   "outputs": [],
   "source": []
  },
  {
   "cell_type": "markdown",
   "metadata": {},
   "source": [
    "4) Wat stelt de eindinfiltratiewaarde voor? (voor beide proeven)"
   ]
  },
  {
   "cell_type": "code",
   "execution_count": null,
   "metadata": {
    "collapsed": true,
    "jupyter": {
     "outputs_hidden": true
    }
   },
   "outputs": [],
   "source": []
  },
  {
   "cell_type": "markdown",
   "metadata": {},
   "source": [
    "## Doorlatendheidsmeting mbv Darcy opstelling\n",
    "In het laboratorium kan ook de zg. verzadigde doorlatendheid van een bodem bepaald worden door middel van een ‘constant head’ proef. Hierbij wordt in een verzadigd monster de doorlatendheid van water gemeten. We gaan dit 3 keer doen met steeds een iets ander stijghoogte verschil.\n",
    "\n",
    "Grondwaterstroming kan worden berekend met de wet van Darcy:\n",
    "$Q=-KA*dh/dx =qA$\n",
    "\n",
    "$Q$      debiet in x-richting         $[L^3 {T}^{-1}]$\n",
    "$A$      doorstroomoppervlak          $[L^2]$\n",
    "$K$      doorlatendheid               $[L {T}^{-1}]$\n",
    "$dh/dx$  gradient van de stijghoogte  $[-]$\n",
    "$q$      specifiek debiet             $[L {T}^{-1}]$\n",
    "\n",
    "- Bepaal de dimensies van het monster\n",
    "- IJk de Mariotte fles\n",
    "- Bepaal stijghoogteverschil\n",
    "- Meet debiet dat in monster loopt met de tijd\n",
    "- Bereken doorlatendheid\n",
    "\n",
    "Dit wordt gedaan met 2 monsters, 1 met grof zand en 1 met fijn zand. "
   ]
  },
  {
   "cell_type": "markdown",
   "metadata": {},
   "source": [
    "### Darcy opstelling 1, grof zand"
   ]
  },
  {
   "cell_type": "markdown",
   "metadata": {},
   "source": [
    "1.1) Bepaal dimensies van het monster en stijghoogteverschil"
   ]
  },
  {
   "cell_type": "code",
   "execution_count": null,
   "metadata": {
    "collapsed": true,
    "jupyter": {
     "outputs_hidden": true
    }
   },
   "outputs": [],
   "source": []
  },
  {
   "cell_type": "markdown",
   "metadata": {},
   "source": [
    "1.2) Meet debiet dat in monster loopt met de tijd"
   ]
  },
  {
   "cell_type": "code",
   "execution_count": null,
   "metadata": {
    "collapsed": true,
    "jupyter": {
     "outputs_hidden": true
    }
   },
   "outputs": [],
   "source": []
  },
  {
   "cell_type": "markdown",
   "metadata": {},
   "source": [
    "1.3) Bereken doorlatendheid"
   ]
  },
  {
   "cell_type": "code",
   "execution_count": null,
   "metadata": {
    "collapsed": true,
    "jupyter": {
     "outputs_hidden": true
    }
   },
   "outputs": [],
   "source": []
  },
  {
   "cell_type": "markdown",
   "metadata": {},
   "source": [
    "### Darcy opstelling 1, fijn zand"
   ]
  },
  {
   "cell_type": "markdown",
   "metadata": {},
   "source": [
    "1.4) Bepaal dimensies van het monster en stijghoogteverschil"
   ]
  },
  {
   "cell_type": "code",
   "execution_count": null,
   "metadata": {
    "collapsed": true,
    "jupyter": {
     "outputs_hidden": true
    }
   },
   "outputs": [],
   "source": []
  },
  {
   "cell_type": "markdown",
   "metadata": {},
   "source": [
    "1.5) Meet debiet dat door monster loopt met de tijd"
   ]
  },
  {
   "cell_type": "code",
   "execution_count": null,
   "metadata": {
    "collapsed": true,
    "jupyter": {
     "outputs_hidden": true
    }
   },
   "outputs": [],
   "source": []
  },
  {
   "cell_type": "markdown",
   "metadata": {},
   "source": [
    "1.6) Bereken doorlatendheid"
   ]
  },
  {
   "cell_type": "code",
   "execution_count": null,
   "metadata": {
    "collapsed": true,
    "jupyter": {
     "outputs_hidden": true
    }
   },
   "outputs": [],
   "source": []
  },
  {
   "cell_type": "markdown",
   "metadata": {},
   "source": [
    "### Darcy opstelling 2, grof zand"
   ]
  },
  {
   "cell_type": "markdown",
   "metadata": {},
   "source": [
    "2.1) Bepaal dimensies van het monster en stijghoogteverschil"
   ]
  },
  {
   "cell_type": "code",
   "execution_count": null,
   "metadata": {
    "collapsed": true,
    "jupyter": {
     "outputs_hidden": true
    }
   },
   "outputs": [],
   "source": []
  },
  {
   "cell_type": "markdown",
   "metadata": {},
   "source": [
    "2.2) Meet debiet dat in monster loopt met de tijd"
   ]
  },
  {
   "cell_type": "code",
   "execution_count": null,
   "metadata": {
    "collapsed": true,
    "jupyter": {
     "outputs_hidden": true
    }
   },
   "outputs": [],
   "source": []
  },
  {
   "cell_type": "markdown",
   "metadata": {},
   "source": [
    "2.3) Bereken doorlatendheid"
   ]
  },
  {
   "cell_type": "code",
   "execution_count": null,
   "metadata": {
    "collapsed": true,
    "jupyter": {
     "outputs_hidden": true
    }
   },
   "outputs": [],
   "source": []
  },
  {
   "cell_type": "markdown",
   "metadata": {},
   "source": [
    "### Darcy opstelling 2, fijn zand"
   ]
  },
  {
   "cell_type": "markdown",
   "metadata": {},
   "source": [
    "2.4) Bepaal dimensies van het monster en stijghoogteverschil"
   ]
  },
  {
   "cell_type": "code",
   "execution_count": null,
   "metadata": {
    "collapsed": true,
    "jupyter": {
     "outputs_hidden": true
    }
   },
   "outputs": [],
   "source": []
  },
  {
   "cell_type": "markdown",
   "metadata": {},
   "source": [
    "2.5) Meet debiet dat in monster loopt met de tijd"
   ]
  },
  {
   "cell_type": "code",
   "execution_count": null,
   "metadata": {
    "collapsed": true,
    "jupyter": {
     "outputs_hidden": true
    }
   },
   "outputs": [],
   "source": []
  },
  {
   "cell_type": "markdown",
   "metadata": {},
   "source": [
    "2.6) Bereken doorlatendheid"
   ]
  },
  {
   "cell_type": "code",
   "execution_count": null,
   "metadata": {
    "collapsed": true,
    "jupyter": {
     "outputs_hidden": true
    }
   },
   "outputs": [],
   "source": []
  },
  {
   "cell_type": "markdown",
   "metadata": {},
   "source": [
    "### Darcy opstelling 3, grof zand"
   ]
  },
  {
   "cell_type": "markdown",
   "metadata": {},
   "source": [
    "3.1) Bepaal dimensies van het monster en stijghoogteverschil"
   ]
  },
  {
   "cell_type": "code",
   "execution_count": null,
   "metadata": {
    "collapsed": true,
    "jupyter": {
     "outputs_hidden": true
    }
   },
   "outputs": [],
   "source": []
  },
  {
   "cell_type": "markdown",
   "metadata": {},
   "source": [
    "3.2) Meet debiet dat in monster loopt met de tijd"
   ]
  },
  {
   "cell_type": "code",
   "execution_count": null,
   "metadata": {
    "collapsed": true,
    "jupyter": {
     "outputs_hidden": true
    }
   },
   "outputs": [],
   "source": []
  },
  {
   "cell_type": "markdown",
   "metadata": {},
   "source": [
    "3.3) Bereken doorlatendheid"
   ]
  },
  {
   "cell_type": "code",
   "execution_count": null,
   "metadata": {
    "collapsed": true,
    "jupyter": {
     "outputs_hidden": true
    }
   },
   "outputs": [],
   "source": []
  },
  {
   "cell_type": "markdown",
   "metadata": {},
   "source": [
    "### Darcy opstelling 3, fijn zand"
   ]
  },
  {
   "cell_type": "markdown",
   "metadata": {},
   "source": [
    "3.4) Bepaal dimensies van het monster en stijghoogteverschil"
   ]
  },
  {
   "cell_type": "code",
   "execution_count": null,
   "metadata": {
    "collapsed": true,
    "jupyter": {
     "outputs_hidden": true
    }
   },
   "outputs": [],
   "source": []
  },
  {
   "cell_type": "markdown",
   "metadata": {},
   "source": [
    "3.5) Meet debiet dat in monster loopt met de tijd"
   ]
  },
  {
   "cell_type": "code",
   "execution_count": null,
   "metadata": {
    "collapsed": true,
    "jupyter": {
     "outputs_hidden": true
    }
   },
   "outputs": [],
   "source": []
  },
  {
   "cell_type": "markdown",
   "metadata": {},
   "source": [
    "3.6) Bereken doorlatendheid"
   ]
  },
  {
   "cell_type": "code",
   "execution_count": null,
   "metadata": {
    "collapsed": true,
    "jupyter": {
     "outputs_hidden": true
    }
   },
   "outputs": [],
   "source": []
  },
  {
   "cell_type": "markdown",
   "metadata": {},
   "source": [
    "## Vergelijk doorlatendheidsmeting met infiltratieproef"
   ]
  },
  {
   "cell_type": "markdown",
   "metadata": {},
   "source": [
    "1) Vergelijk je antwoord van de Darcy proeven met de infiltratieproeven en bespreek de bevindingen"
   ]
  },
  {
   "cell_type": "code",
   "execution_count": null,
   "metadata": {
    "collapsed": true,
    "jupyter": {
     "outputs_hidden": true
    }
   },
   "outputs": [],
   "source": []
  },
  {
   "cell_type": "markdown",
   "metadata": {},
   "source": [
    "2) Vergelijk de gevonden hydraulische karakteristieken van de bodem met literatuurwaarden. Is dit wat je kan verwachten voor een zand monster?"
   ]
  },
  {
   "cell_type": "code",
   "execution_count": null,
   "metadata": {
    "collapsed": true,
    "jupyter": {
     "outputs_hidden": true
    }
   },
   "outputs": [],
   "source": []
  }
 ],
 "metadata": {
  "kernelspec": {
   "display_name": "Python 3 (ipykernel)",
   "language": "python",
   "name": "python3"
  },
  "language_info": {
   "codemirror_mode": {
    "name": "ipython",
    "version": 3
   },
   "file_extension": ".py",
   "mimetype": "text/x-python",
   "name": "python",
   "nbconvert_exporter": "python",
   "pygments_lexer": "ipython3",
   "version": "3.11.4"
  }
 },
 "nbformat": 4,
 "nbformat_minor": 4
}
