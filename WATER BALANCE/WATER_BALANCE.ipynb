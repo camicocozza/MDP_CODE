{
 "cells": [
  {
   "cell_type": "code",
   "execution_count": null,
   "id": "697ac803-7d66-4fa3-a329-235015ac5ab1",
   "metadata": {
    "tags": []
   },
   "outputs": [],
   "source": [
    "import numpy as np\n",
    "import matplotlib.pyplot as plt\n",
    "import pandas as pd\n",
    "import warnings\n",
    "from scipy.stats import linregress\n",
    "warnings.simplefilter(\"ignore\")\n",
    "plt.rcParams[\"figure.autolayout\"] = True\n",
    "plt.rcParams['axes.grid'] = True"
   ]
  },
  {
   "cell_type": "code",
   "execution_count": null,
   "id": "494f511e-c801-42ed-9f25-4ad558a7f6ce",
   "metadata": {
    "tags": []
   },
   "outputs": [],
   "source": [
    "from HBVMod_LL import HBVMod"
   ]
  },
  {
   "cell_type": "code",
   "execution_count": null,
   "id": "8b11a509-0833-47af-aa50-26b127a298ed",
   "metadata": {},
   "outputs": [],
   "source": [
    "df = pd.read_csv('PRECIPITATION.csv', delimiter=';', skiprows=1, header=None)\n",
    "df[['Date', 'PRCP']] = df[0].str.split(';', expand=True)\n",
    "df = df.drop(columns=[0])\n",
    "df[\"PRCP\"] = df[\"PRCP\"].astype(float)"
   ]
  },
  {
   "cell_type": "code",
   "execution_count": null,
   "id": "bc5f2533-ff66-4981-b7d5-967655ebd1e8",
   "metadata": {
    "tags": []
   },
   "outputs": [],
   "source": [
    "df1 = pd.read_csv('MEAN_TEMP.csv', delimiter=';', skiprows=1, header=None)\n",
    "column_names = ['Date', 'TEMP']\n",
    "df1.columns = column_names\n",
    "df1[\"TEMP\"] = df1[\"TEMP\"].astype(float)"
   ]
  },
  {
   "cell_type": "code",
   "execution_count": null,
   "id": "f14821b8-1128-4a32-9481-a233cc761835",
   "metadata": {
    "tags": []
   },
   "outputs": [],
   "source": [
    "df2 = pd.read_csv('POT_EV.csv', delimiter=';', skiprows=1, header=None)\n",
    "column_names = ['Date', 'POT_EV']\n",
    "df2.columns = column_names\n",
    "df2[\"POT_EV\"] = df2[\"POT_EV\"].astype(float)"
   ]
  },
  {
   "cell_type": "code",
   "execution_count": null,
   "id": "875e8727-542b-4535-ab6f-352aefb0cb35",
   "metadata": {
    "tags": []
   },
   "outputs": [],
   "source": [
    "df_tot = pd.concat([df[\"Date\"], df[\"PRCP\"], df2[\"POT_EV\"]], axis = 1)"
   ]
  },
  {
   "cell_type": "code",
   "execution_count": null,
   "id": "a34c3877-4556-4030-9f08-5c976d81f646",
   "metadata": {
    "tags": []
   },
   "outputs": [],
   "source": [
    "df_tot"
   ]
  },
  {
   "cell_type": "code",
   "execution_count": null,
   "id": "4c1d5dad-d4de-4727-827c-d5fe8b8ee155",
   "metadata": {},
   "outputs": [],
   "source": [
    "Par = np.array([2,   .5,  100,   .01,    .05,  .001])\n",
    "              #Si, Su,   Sf, Ss\n",
    "Sin= np.array([0,  100,  0,  5  ])\n",
    "\n",
    "PRCP = df[\"PRCP\"]\n",
    "POT_EV = df2[\"POT_EV\"]\n",
    "#forcing= forcing[:,3:6]\n",
    "\n",
    "\n",
    "Qm = HBVMod(Par,PRCP, POT_EV,Sin,hydrograph='True')\n"
   ]
  },
  {
   "cell_type": "code",
   "execution_count": null,
   "id": "e3dc1acb-52bc-4219-9505-310348f54292",
   "metadata": {
    "tags": []
   },
   "outputs": [],
   "source": [
    "date = pd.to_datetime(df[\"Date\"])"
   ]
  },
  {
   "cell_type": "code",
   "execution_count": null,
   "id": "5089a3d2-80c6-45b7-a500-17eed2479764",
   "metadata": {
    "tags": []
   },
   "outputs": [],
   "source": [
    "plt.plot(date, Qm)"
   ]
  },
  {
   "cell_type": "code",
   "execution_count": null,
   "id": "105cf126-8414-4591-9933-09ba5ef73fa9",
   "metadata": {},
   "outputs": [],
   "source": []
  }
 ],
 "metadata": {
  "kernelspec": {
   "display_name": "Python 3 (ipykernel)",
   "language": "python",
   "name": "python3"
  },
  "language_info": {
   "codemirror_mode": {
    "name": "ipython",
    "version": 3
   },
   "file_extension": ".py",
   "mimetype": "text/x-python",
   "name": "python",
   "nbconvert_exporter": "python",
   "pygments_lexer": "ipython3",
   "version": "3.11.4"
  }
 },
 "nbformat": 4,
 "nbformat_minor": 5
}
