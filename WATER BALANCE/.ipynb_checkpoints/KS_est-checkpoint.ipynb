{
 "cells": [
  {
   "cell_type": "code",
   "execution_count": 16,
   "id": "f850814e-a093-4d2e-b88b-6a58a8d96100",
   "metadata": {
    "tags": []
   },
   "outputs": [
    {
     "name": "stdout",
     "output_type": "stream",
     "text": [
      "[nan nan nan ... '2024-01-15' '2024-01-16' '2024-01-17']\n"
     ]
    },
    {
     "ename": "UFuncTypeError",
     "evalue": "ufunc 'subtract' did not contain a loop with signature matching types (dtype('<U32'), dtype('<U10')) -> None",
     "output_type": "error",
     "traceback": [
      "\u001b[0;31m---------------------------------------------------------------------------\u001b[0m",
      "\u001b[0;31mUFuncTypeError\u001b[0m                            Traceback (most recent call last)",
      "Cell \u001b[0;32mIn[16], line 71\u001b[0m\n\u001b[1;32m     69\u001b[0m \u001b[38;5;66;03m# Main Execution: Detect recessions, create MRC, and plot it\u001b[39;00m\n\u001b[1;32m     70\u001b[0m recessions \u001b[38;5;241m=\u001b[39m detect_recession_periods(time, discharge)\n\u001b[0;32m---> 71\u001b[0m master_curve \u001b[38;5;241m=\u001b[39m create_master_recession_curve(recessions)\n\u001b[1;32m     72\u001b[0m plot_master_curve(master_curve)\n",
      "Cell \u001b[0;32mIn[16], line 40\u001b[0m, in \u001b[0;36mcreate_master_recession_curve\u001b[0;34m(recessions)\u001b[0m\n\u001b[1;32m     37\u001b[0m master_curve \u001b[38;5;241m=\u001b[39m []\n\u001b[1;32m     39\u001b[0m \u001b[38;5;28;01mfor\u001b[39;00m recession \u001b[38;5;129;01min\u001b[39;00m recessions:\n\u001b[0;32m---> 40\u001b[0m     t \u001b[38;5;241m=\u001b[39m recession[:, \u001b[38;5;241m0\u001b[39m] \u001b[38;5;241m-\u001b[39m recession[\u001b[38;5;241m0\u001b[39m, \u001b[38;5;241m0\u001b[39m]  \u001b[38;5;66;03m# Normalize time to start at 0\u001b[39;00m\n\u001b[1;32m     41\u001b[0m     Q \u001b[38;5;241m=\u001b[39m recession[:, \u001b[38;5;241m1\u001b[39m]\n\u001b[1;32m     43\u001b[0m     \u001b[38;5;28;01mtry\u001b[39;00m:\n\u001b[1;32m     44\u001b[0m         \u001b[38;5;66;03m# Fit the recession data to the exponential decay model\u001b[39;00m\n",
      "\u001b[0;31mUFuncTypeError\u001b[0m: ufunc 'subtract' did not contain a loop with signature matching types (dtype('<U32'), dtype('<U10')) -> None"
     ]
    }
   ],
   "source": [
    "import pandas as pd\n",
    "import numpy as np\n",
    "import matplotlib.pyplot as plt\n",
    "from scipy.optimize import curve_fit\n",
    "\n",
    "# Step 1: Load discharge data from Excel file\n",
    "file_path = 'discharge.xlsx'  # Replace with your actual file path\n",
    "df = pd.read_excel(file_path)\n",
    "\n",
    "df['Colonna2'] = pd.to_numeric(df['Colonna2'], errors='coerce')\n",
    "df = df.dropna(subset=['Colonna2'])\n",
    "# Assuming the Excel file has 'Time' and 'Discharge' columns\n",
    "time = df['Colonna1'].values\n",
    "discharge = df['Colonna2'].values\n",
    "print(time)\n",
    "\n",
    "# Step 2: Define a function to detect recession periods\n",
    "def detect_recession_periods(time, discharge, threshold=0):\n",
    "    recessions = []\n",
    "    current_recession = []\n",
    "    \n",
    "    for i in range(1, len(discharge)):\n",
    "        if discharge[i] < discharge[i - 1]:  # Condition for recession (flow is decreasing)\n",
    "            current_recession.append((time[i], discharge[i]))\n",
    "        else:\n",
    "            if len(current_recession) > 1:  # End of a recession period\n",
    "                recessions.append(np.array(current_recession))\n",
    "            current_recession = []\n",
    "    \n",
    "    return recessions\n",
    "\n",
    "# Step 3: Define a function to fit a recession curve (exponential decay model)\n",
    "def exp_decay(t, a, b):\n",
    "    return a * np.exp(-b * t)\n",
    "\n",
    "# Step 4: Create the Master Recession Curve (MRC)\n",
    "def create_master_recession_curve(recessions):\n",
    "    master_curve = []\n",
    "    \n",
    "    for recession in recessions:\n",
    "        t = recession[:, 0] - recession[0, 0]  # Normalize time to start at 0\n",
    "        Q = recession[:, 1]\n",
    "        \n",
    "        try:\n",
    "            # Fit the recession data to the exponential decay model\n",
    "            params, _ = curve_fit(exp_decay, t, Q)\n",
    "            a, b = params\n",
    "            \n",
    "            # Generate fitted recession curve points\n",
    "            fitted_curve = exp_decay(t, a, b)\n",
    "            master_curve.append((t, fitted_curve))\n",
    "        except RuntimeError:\n",
    "            pass  # Skip if fitting fails\n",
    "    \n",
    "    return master_curve\n",
    "\n",
    "# Step 5: Plot the Master Recession Curve\n",
    "def plot_master_curve(master_curve):\n",
    "    plt.figure(figsize=(10, 6))\n",
    "    \n",
    "    for t, fitted_curve in master_curve:\n",
    "        plt.plot(t, fitted_curve, label=\"Recession segment\")\n",
    "    \n",
    "    plt.xlabel('Time (days)')\n",
    "    plt.ylabel('Discharge (m^3/s)')\n",
    "    plt.title('Master Recession Curve')\n",
    "    plt.legend()\n",
    "    plt.show()\n",
    "\n",
    "# Main Execution: Detect recessions, create MRC, and plot it\n",
    "recessions = detect_recession_periods(time, discharge)\n",
    "master_curve = create_master_recession_curve(recessions)\n",
    "plot_master_curve(master_curve)\n"
   ]
  },
  {
   "cell_type": "code",
   "execution_count": 14,
   "id": "a535a5cb-0968-48cd-8c49-3a4f0dedf410",
   "metadata": {
    "tags": []
   },
   "outputs": [
    {
     "ename": "AttributeError",
     "evalue": "'numpy.ndarray' object has no attribute 'type'",
     "output_type": "error",
     "traceback": [
      "\u001b[0;31m---------------------------------------------------------------------------\u001b[0m",
      "\u001b[0;31mAttributeError\u001b[0m                            Traceback (most recent call last)",
      "Cell \u001b[0;32mIn[14], line 1\u001b[0m\n\u001b[0;32m----> 1\u001b[0m discharge\u001b[38;5;241m.\u001b[39mtype()\n",
      "\u001b[0;31mAttributeError\u001b[0m: 'numpy.ndarray' object has no attribute 'type'"
     ]
    }
   ],
   "source": [
    "discharge.type()"
   ]
  },
  {
   "cell_type": "code",
   "execution_count": null,
   "id": "21d1febe-3e67-4863-9750-f0204a7314b6",
   "metadata": {},
   "outputs": [],
   "source": []
  }
 ],
 "metadata": {
  "kernelspec": {
   "display_name": "Python 3 (ipykernel)",
   "language": "python",
   "name": "python3"
  },
  "language_info": {
   "codemirror_mode": {
    "name": "ipython",
    "version": 3
   },
   "file_extension": ".py",
   "mimetype": "text/x-python",
   "name": "python",
   "nbconvert_exporter": "python",
   "pygments_lexer": "ipython3",
   "version": "3.11.4"
  }
 },
 "nbformat": 4,
 "nbformat_minor": 5
}
